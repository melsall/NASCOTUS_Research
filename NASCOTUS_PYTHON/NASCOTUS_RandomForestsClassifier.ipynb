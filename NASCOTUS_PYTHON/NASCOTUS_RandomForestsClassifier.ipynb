{
 "cells": [
  {
   "cell_type": "code",
   "execution_count": 56,
   "id": "9a44ad89",
   "metadata": {},
   "outputs": [],
   "source": [
    "#importing necessary libraries\n",
    "\n",
    "import pandas as pd\n",
    "import numpy as np\n",
    "from sklearn.model_selection import train_test_split\n",
    "from sklearn.ensemble import RandomForestClassifier\n",
    "from sklearn.metrics import accuracy_score\n",
    "from sklearn.preprocessing import OneHotEncoder"
   ]
  },
  {
   "cell_type": "code",
   "execution_count": 77,
   "id": "9f39bc6d",
   "metadata": {},
   "outputs": [],
   "source": [
    "# importing and separating data\n",
    "NASCOTUS_fixed = pd.read_csv('NASCOTUS_fixed.csv')\n",
    "\n",
    "# making X data and Y data\n",
    "X = NASCOTUS_fixed.drop('justicesDecision', axis=1)\n",
    "y = NASCOTUS_fixed['justicesDecision']"
   ]
  },
  {
   "cell_type": "code",
   "execution_count": 78,
   "id": "945937de",
   "metadata": {},
   "outputs": [],
   "source": [
    "# have to do preprocessing and one hot encode since the variables are categorical\n",
    "encoder = OneHotEncoder(sparse=False, handle_unknown='ignore')\n",
    "X_encoded = encoder.fit_transform(X)"
   ]
  },
  {
   "cell_type": "code",
   "execution_count": 79,
   "id": "fa821bdc",
   "metadata": {},
   "outputs": [],
   "source": [
    "# then I split data \n",
    "X_train, X_test, y_train, y_test = train_test_split(X_encoded, y, test_size=0.1, random_state=42)"
   ]
  },
  {
   "cell_type": "code",
   "execution_count": 80,
   "id": "01806f98",
   "metadata": {},
   "outputs": [
    {
     "data": {
      "text/plain": [
       "RandomForestClassifier(class_weight='balanced', n_estimators=1, random_state=42)"
      ]
     },
     "execution_count": 80,
     "metadata": {},
     "output_type": "execute_result"
    }
   ],
   "source": [
    "# now I train random forest classifier\n",
    "randfor = RandomForestClassifier(n_estimators=1, class_weight = 'balanced', random_state=42) # n_estimators means the amount of trees \n",
    "\n",
    "randfor.fit(X_train, y_train) #training the model \n"
   ]
  },
  {
   "cell_type": "code",
   "execution_count": 81,
   "id": "034ed2df",
   "metadata": {},
   "outputs": [
    {
     "name": "stdout",
     "output_type": "stream",
     "text": [
      "Accuracy: 0.4989876966204641\n"
     ]
    }
   ],
   "source": [
    "# now I a making predictions and classifying the model \n",
    "\n",
    "predictions = randfor.predict(X_test)\n",
    "\n",
    "# accuracy calculation\n",
    "accuracy = accuracy_score(y_test, predictions)\n",
    "print(f'Accuracy: {accuracy}')"
   ]
  },
  {
   "cell_type": "code",
   "execution_count": 54,
   "id": "5adc4c00",
   "metadata": {},
   "outputs": [
    {
     "name": "stdout",
     "output_type": "stream",
     "text": [
      "certReason: 0.41537721563512414\n",
      "lawType: 0.3701240430732086\n",
      "lcDispositionDirection: 0.13442714709294412\n",
      "presAffiliation: 0.08007159419872323\n"
     ]
    }
   ],
   "source": [
    "importances = randfor.feature_importances_ #feature importances \n",
    "\n",
    "\n",
    "# now relating the encoded features back to the acutal ones\n",
    "feature_names = encoder.get_feature_names_out(X.columns)\n",
    "original_feature_importance = dict.fromkeys(X.columns, 0)\n",
    "\n",
    "for encoded_feature, importance in zip(feature_names, importances):\n",
    "    original_feature = encoded_feature.split('_')[0]  # using default one hot encoding feature naming\n",
    "    original_feature_importance[original_feature] += importance\n",
    "\n",
    "sorted_by_importance = sorted(original_feature_importance.items(), key=lambda x: x[1], reverse=True)\n",
    "\n",
    "# printing the sorted features now and their importance\n",
    "for feature, importance in sorted_by_importance:\n",
    "    print(f\"{feature}: {importance}\")\n"
   ]
  },
  {
   "cell_type": "code",
   "execution_count": 55,
   "id": "70b3f1b4",
   "metadata": {},
   "outputs": [
    {
     "ename": "IndentationError",
     "evalue": "unexpected indent (4292286074.py, line 2)",
     "output_type": "error",
     "traceback": [
      "\u001b[0;36m  Input \u001b[0;32mIn [55]\u001b[0;36m\u001b[0m\n\u001b[0;31m    This model is saying that certReason is the most important feature, then lawType, then lcDispositionDirection,\u001b[0m\n\u001b[0m    ^\u001b[0m\n\u001b[0;31mIndentationError\u001b[0m\u001b[0;31m:\u001b[0m unexpected indent\n"
     ]
    }
   ],
   "source": [
    "# notes\n",
    "    This model is saying that certReason is the most important feature, then lawType, then lcDispositionDirection,\n",
    "    then presAffiliation. The numbers are percentages. "
   ]
  },
  {
   "cell_type": "code",
   "execution_count": null,
   "id": "aad4ef7d",
   "metadata": {},
   "outputs": [],
   "source": []
  },
  {
   "cell_type": "code",
   "execution_count": null,
   "id": "9deba0c7",
   "metadata": {},
   "outputs": [],
   "source": []
  },
  {
   "cell_type": "code",
   "execution_count": null,
   "id": "2e0a53d2",
   "metadata": {},
   "outputs": [],
   "source": []
  }
 ],
 "metadata": {
  "kernelspec": {
   "display_name": "Python 3 (ipykernel)",
   "language": "python",
   "name": "python3"
  },
  "language_info": {
   "codemirror_mode": {
    "name": "ipython",
    "version": 3
   },
   "file_extension": ".py",
   "mimetype": "text/x-python",
   "name": "python",
   "nbconvert_exporter": "python",
   "pygments_lexer": "ipython3",
   "version": "3.9.12"
  }
 },
 "nbformat": 4,
 "nbformat_minor": 5
}
