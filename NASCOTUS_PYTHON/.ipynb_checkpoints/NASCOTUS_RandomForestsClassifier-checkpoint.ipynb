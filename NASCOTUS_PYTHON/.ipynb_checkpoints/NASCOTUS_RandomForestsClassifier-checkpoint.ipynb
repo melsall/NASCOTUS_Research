{
 "cells": [
  {
   "cell_type": "code",
   "execution_count": 1,
   "id": "d8184a85",
   "metadata": {},
   "outputs": [],
   "source": [
    "#importing necessary libraries\n",
    "\n",
    "import pandas as pd\n",
    "import numpy as np\n",
    "from sklearn.model_selection import train_test_split\n",
    "from sklearn.ensemble import RandomForestClassifier\n",
    "from sklearn.metrics import accuracy_score\n",
    "from sklearn.preprocessing import OneHotEncoder"
   ]
  },
  {
   "cell_type": "code",
   "execution_count": 4,
   "id": "7aa165ae",
   "metadata": {},
   "outputs": [],
   "source": [
    "# importing and separating data\n",
    "df = pd.read_csv('NASCOTUS_fixed.csv')\n",
    "\n",
    "# making Xs and Ys\n",
    "X = df.drop('justicesDecision', axis=1)\n",
    "y = df['justicesDecision']"
   ]
  },
  {
   "cell_type": "code",
   "execution_count": 6,
   "id": "103f96ed",
   "metadata": {},
   "outputs": [],
   "source": [
    "# have to do preprocessing and one hot encode since the variables are categorical\n",
    "encoder = OneHotEncoder(sparse=False, handle_unknown='ignore')\n",
    "X_encoded = encoder.fit_transform(X)"
   ]
  },
  {
   "cell_type": "code",
   "execution_count": 7,
   "id": "5841354e",
   "metadata": {},
   "outputs": [],
   "source": [
    "# then I split data \n",
    "X_train, X_test, y_train, y_test = train_test_split(X_encoded, y, test_size=0.2, random_state=42)"
   ]
  },
  {
   "cell_type": "code",
   "execution_count": null,
   "id": "4a4595b1",
   "metadata": {},
   "outputs": [],
   "source": [
    "# now I train random forest classifier\n",
    "randfor = RandomForestClassifier(n_estimators=30, random_state=42) # n_estimators means the amount of trees \n",
    "\n",
    "randfor.fit(X_train, y_train) #training the model \n"
   ]
  },
  {
   "cell_type": "code",
   "execution_count": 10,
   "id": "482cfd0b",
   "metadata": {},
   "outputs": [
    {
     "name": "stdout",
     "output_type": "stream",
     "text": [
      "Accuracy: 0.8114632816758819\n"
     ]
    }
   ],
   "source": [
    "# now I a making predictions and classifying the model \n",
    "\n",
    "predictions = randfor.predict(X_test)\n",
    "\n",
    "# accuracy calculation\n",
    "accuracy = accuracy_score(y_test, predictions)\n",
    "print(f'Accuracy: {accuracy}')"
   ]
  },
  {
   "cell_type": "code",
   "execution_count": 14,
   "id": "af86c865",
   "metadata": {},
   "outputs": [
    {
     "name": "stdout",
     "output_type": "stream",
     "text": [
      "certReason: 0.37657955012522415\n",
      "lawType: 0.36129490873459175\n",
      "lcDispositionDirection: 0.1528090766511322\n",
      "presAffiliation: 0.10931646448905191\n"
     ]
    }
   ],
   "source": [
    "importances = randfor.feature_importances_ #feature importances \n",
    "\n",
    "\n",
    "# now relating the encoded features back to the acutal ones\n",
    "feature_names = encoder.get_feature_names_out(X.columns)\n",
    "original_feature_importance = dict.fromkeys(X.columns, 0)\n",
    "\n",
    "for encoded_feature, importance in zip(feature_names, importances):\n",
    "    original_feature = encoded_feature.split('_')[0]  # using default one hot encoding feature naming\n",
    "    original_feature_importance[original_feature] += importance\n",
    "\n",
    "sorted_by_importance = sorted(original_feature_importance.items(), key=lambda x: x[1], reverse=True)\n",
    "\n",
    "# printing the sorted features now and their importance\n",
    "for feature, importance in sorted_by_importance:\n",
    "    print(f\"{feature}: {importance}\")\n"
   ]
  },
  {
   "cell_type": "code",
   "execution_count": 17,
   "id": "fae3333d",
   "metadata": {},
   "outputs": [
    {
     "ename": "SyntaxError",
     "evalue": "invalid syntax (1049417767.py, line 4)",
     "output_type": "error",
     "traceback": [
      "\u001b[0;36m  Input \u001b[0;32mIn [17]\u001b[0;36m\u001b[0m\n\u001b[0;31m    This mode is saying that certReason is the most important feature, then lawType, then lcDispositionDirection,\u001b[0m\n\u001b[0m         ^\u001b[0m\n\u001b[0;31mSyntaxError\u001b[0m\u001b[0;31m:\u001b[0m invalid syntax\n"
     ]
    }
   ],
   "source": [
    "# notes\n",
    "    This model is saying that certReason is the most important feature, then lawType, then lcDispositionDirection,\n",
    "    then presAffiliation. The numbers are percentages. "
   ]
  },
  {
   "cell_type": "code",
   "execution_count": null,
   "id": "901d725b",
   "metadata": {},
   "outputs": [],
   "source": []
  }
 ],
 "metadata": {
  "kernelspec": {
   "display_name": "Python 3 (ipykernel)",
   "language": "python",
   "name": "python3"
  },
  "language_info": {
   "codemirror_mode": {
    "name": "ipython",
    "version": 3
   },
   "file_extension": ".py",
   "mimetype": "text/x-python",
   "name": "python",
   "nbconvert_exporter": "python",
   "pygments_lexer": "ipython3",
   "version": "3.9.12"
  }
 },
 "nbformat": 4,
 "nbformat_minor": 5
}
