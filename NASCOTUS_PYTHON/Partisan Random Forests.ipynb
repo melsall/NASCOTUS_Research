{
 "cells": [
  {
   "cell_type": "code",
   "execution_count": 1,
   "id": "a064b076",
   "metadata": {},
   "outputs": [],
   "source": [
    "# this file will do random forests separately by party to see what happens"
   ]
  },
  {
   "cell_type": "code",
   "execution_count": 2,
   "id": "525c66de",
   "metadata": {},
   "outputs": [],
   "source": [
    "import pandas as pd\n",
    "import numpy as np\n",
    "from sklearn.model_selection import train_test_split\n",
    "from sklearn.ensemble import RandomForestClassifier\n",
    "from sklearn.metrics import accuracy_score\n",
    "from sklearn.preprocessing import OneHotEncoder\n",
    "# importing and separating data\n",
    "NASCOTUS_fixed = pd.read_csv('NASCOTUS_fixed.csv')"
   ]
  },
  {
   "cell_type": "code",
   "execution_count": null,
   "id": "c6489129",
   "metadata": {},
   "outputs": [],
   "source": [
    "# conservative modeling\n",
    "conservative_rf = NASCOTUS_fixed[NASCOTUS_fixed['presAffiliation'] == 1].copy()\n",
    "conservative_rf.drop('presAffiliation', axis=1, inplace=True)\n",
    "# one hot\n",
    "X_con = NASCOTUS_fixed.drop('justicesDecision', axis=1)\n",
    "y_con = NASCOTUS_fixed['justicesDecision']\n",
    "\n",
    "encoder_con = OneHotEncoder(sparse=False, handle_unknown='ignore')\n",
    "X_encoded_con = encoder_con.fit_transform(X_con)\n",
    "#split train test\n",
    "# then I split data \n",
    "X_train_con, X_test_con, y_train_con, y_test_con = train_test_split(X_encoded_con, y_con, test_size=0.2, random_state=42)\n",
    "\n",
    "# now I train random forest classifier\n",
    "randfor_con = RandomForestClassifier(n_estimators=110, class_weight = 'balanced', random_state=42) # n_estimators means the amount of trees \n",
    "\n",
    "randfor_con.fit(X_train_con, y_train_con) #training the model \n",
    "\n",
    "# now I a making predictions and classifying the model \n",
    "\n",
    "predictions_con = randfor_con.predict(X_test_con)\n",
    "\n",
    "# accuracy calculation\n",
    "accuracy_con = accuracy_score(y_test_con, predictions_con)\n",
    "print(f'Accuracy: {accuracy_con}')\n",
    "\n",
    "importances_con = randfor_con.feature_importances_ #feature importances \n",
    "\n",
    "\n",
    "# now relating the encoded features back to the acutal ones\n",
    "feature_names_con = encoder_con.get_feature_names_out(X_con.columns)\n",
    "original_feature_importance_con = dict.fromkeys(X_con.columns, 0)\n",
    "\n",
    "for encoded_feature_con, importance_con in zip(feature_names_con, importances_con):\n",
    "    original_feature_con= encoded_feature_con.split('_')[0]  # using default one hot encoding feature naming\n",
    "    original_feature_importance_con[original_feature_con] += importance \n",
    "\n",
    "sorted_by_importance_con = sorted(original_feature_importance_con.items(), key=lambda x: x[1], reverse=True)\n",
    "\n",
    "# printing the sorted features now and their importance\n",
    "for feature_con, importance in sorted_by_importance_con:\n",
    "    print(f\"{feature_con}: {importance_con}\")\n"
   ]
  },
  {
   "cell_type": "code",
   "execution_count": 33,
   "id": "460dcfcc",
   "metadata": {},
   "outputs": [
    {
     "ename": "ValueError",
     "evalue": "Found input variables with inconsistent numbers of samples: [64204, 25857]",
     "output_type": "error",
     "traceback": [
      "\u001b[0;31m---------------------------------------------------------------------------\u001b[0m",
      "\u001b[0;31mValueError\u001b[0m                                Traceback (most recent call last)",
      "Input \u001b[0;32mIn [33]\u001b[0m, in \u001b[0;36m<cell line: 10>\u001b[0;34m()\u001b[0m\n\u001b[1;32m      8\u001b[0m encoder_lib \u001b[38;5;241m=\u001b[39m OneHotEncoder(sparse\u001b[38;5;241m=\u001b[39m\u001b[38;5;28;01mFalse\u001b[39;00m, handle_unknown\u001b[38;5;241m=\u001b[39m\u001b[38;5;124m'\u001b[39m\u001b[38;5;124mignore\u001b[39m\u001b[38;5;124m'\u001b[39m)\n\u001b[1;32m      9\u001b[0m X_encoded_lib \u001b[38;5;241m=\u001b[39m encoder_lib\u001b[38;5;241m.\u001b[39mfit_transform(X)\n\u001b[0;32m---> 10\u001b[0m X_train_lib, X_test_lib, y_train_lib, y_test_lib \u001b[38;5;241m=\u001b[39m \u001b[43mtrain_test_split\u001b[49m\u001b[43m(\u001b[49m\u001b[43mX_encoded_lib\u001b[49m\u001b[43m,\u001b[49m\u001b[43m \u001b[49m\u001b[43my_lib\u001b[49m\u001b[43m,\u001b[49m\u001b[43m \u001b[49m\u001b[43mtest_size\u001b[49m\u001b[38;5;241;43m=\u001b[39;49m\u001b[38;5;241;43m0.1\u001b[39;49m\u001b[43m,\u001b[49m\u001b[43m \u001b[49m\u001b[43mrandom_state\u001b[49m\u001b[38;5;241;43m=\u001b[39;49m\u001b[38;5;241;43m42\u001b[39;49m\u001b[43m)\u001b[49m\n\u001b[1;32m     13\u001b[0m \u001b[38;5;66;03m# now I train random forest classifier\u001b[39;00m\n\u001b[1;32m     14\u001b[0m randfor_lib \u001b[38;5;241m=\u001b[39m RandomForestClassifier(n_estimators\u001b[38;5;241m=\u001b[39m\u001b[38;5;241m110\u001b[39m, class_weight \u001b[38;5;241m=\u001b[39m \u001b[38;5;124m'\u001b[39m\u001b[38;5;124mbalanced\u001b[39m\u001b[38;5;124m'\u001b[39m, random_state\u001b[38;5;241m=\u001b[39m\u001b[38;5;241m42\u001b[39m) \u001b[38;5;66;03m# n_estimators means the amount of trees \u001b[39;00m\n",
      "File \u001b[0;32m~/opt/anaconda3/lib/python3.9/site-packages/sklearn/model_selection/_split.py:2417\u001b[0m, in \u001b[0;36mtrain_test_split\u001b[0;34m(test_size, train_size, random_state, shuffle, stratify, *arrays)\u001b[0m\n\u001b[1;32m   2414\u001b[0m \u001b[38;5;28;01mif\u001b[39;00m n_arrays \u001b[38;5;241m==\u001b[39m \u001b[38;5;241m0\u001b[39m:\n\u001b[1;32m   2415\u001b[0m     \u001b[38;5;28;01mraise\u001b[39;00m \u001b[38;5;167;01mValueError\u001b[39;00m(\u001b[38;5;124m\"\u001b[39m\u001b[38;5;124mAt least one array required as input\u001b[39m\u001b[38;5;124m\"\u001b[39m)\n\u001b[0;32m-> 2417\u001b[0m arrays \u001b[38;5;241m=\u001b[39m \u001b[43mindexable\u001b[49m\u001b[43m(\u001b[49m\u001b[38;5;241;43m*\u001b[39;49m\u001b[43marrays\u001b[49m\u001b[43m)\u001b[49m\n\u001b[1;32m   2419\u001b[0m n_samples \u001b[38;5;241m=\u001b[39m _num_samples(arrays[\u001b[38;5;241m0\u001b[39m])\n\u001b[1;32m   2420\u001b[0m n_train, n_test \u001b[38;5;241m=\u001b[39m _validate_shuffle_split(\n\u001b[1;32m   2421\u001b[0m     n_samples, test_size, train_size, default_test_size\u001b[38;5;241m=\u001b[39m\u001b[38;5;241m0.25\u001b[39m\n\u001b[1;32m   2422\u001b[0m )\n",
      "File \u001b[0;32m~/opt/anaconda3/lib/python3.9/site-packages/sklearn/utils/validation.py:378\u001b[0m, in \u001b[0;36mindexable\u001b[0;34m(*iterables)\u001b[0m\n\u001b[1;32m    359\u001b[0m \u001b[38;5;124;03m\"\"\"Make arrays indexable for cross-validation.\u001b[39;00m\n\u001b[1;32m    360\u001b[0m \n\u001b[1;32m    361\u001b[0m \u001b[38;5;124;03mChecks consistent length, passes through None, and ensures that everything\u001b[39;00m\n\u001b[0;32m   (...)\u001b[0m\n\u001b[1;32m    374\u001b[0m \u001b[38;5;124;03m    sparse matrix, or dataframe) or `None`.\u001b[39;00m\n\u001b[1;32m    375\u001b[0m \u001b[38;5;124;03m\"\"\"\u001b[39;00m\n\u001b[1;32m    377\u001b[0m result \u001b[38;5;241m=\u001b[39m [_make_indexable(X) \u001b[38;5;28;01mfor\u001b[39;00m X \u001b[38;5;129;01min\u001b[39;00m iterables]\n\u001b[0;32m--> 378\u001b[0m \u001b[43mcheck_consistent_length\u001b[49m\u001b[43m(\u001b[49m\u001b[38;5;241;43m*\u001b[39;49m\u001b[43mresult\u001b[49m\u001b[43m)\u001b[49m\n\u001b[1;32m    379\u001b[0m \u001b[38;5;28;01mreturn\u001b[39;00m result\n",
      "File \u001b[0;32m~/opt/anaconda3/lib/python3.9/site-packages/sklearn/utils/validation.py:332\u001b[0m, in \u001b[0;36mcheck_consistent_length\u001b[0;34m(*arrays)\u001b[0m\n\u001b[1;32m    330\u001b[0m uniques \u001b[38;5;241m=\u001b[39m np\u001b[38;5;241m.\u001b[39munique(lengths)\n\u001b[1;32m    331\u001b[0m \u001b[38;5;28;01mif\u001b[39;00m \u001b[38;5;28mlen\u001b[39m(uniques) \u001b[38;5;241m>\u001b[39m \u001b[38;5;241m1\u001b[39m:\n\u001b[0;32m--> 332\u001b[0m     \u001b[38;5;28;01mraise\u001b[39;00m \u001b[38;5;167;01mValueError\u001b[39;00m(\n\u001b[1;32m    333\u001b[0m         \u001b[38;5;124m\"\u001b[39m\u001b[38;5;124mFound input variables with inconsistent numbers of samples: \u001b[39m\u001b[38;5;132;01m%r\u001b[39;00m\u001b[38;5;124m\"\u001b[39m\n\u001b[1;32m    334\u001b[0m         \u001b[38;5;241m%\u001b[39m [\u001b[38;5;28mint\u001b[39m(l) \u001b[38;5;28;01mfor\u001b[39;00m l \u001b[38;5;129;01min\u001b[39;00m lengths]\n\u001b[1;32m    335\u001b[0m     )\n",
      "\u001b[0;31mValueError\u001b[0m: Found input variables with inconsistent numbers of samples: [64204, 25857]"
     ]
    }
   ],
   "source": [
    "# liberal modeling\n",
    "liberal_rf = NASCOTUS_fixed[NASCOTUS_fixed['presAffiliation'] == 0].copy()\n",
    "liberal_rf.drop('presAffiliation', axis=1, inplace=True)\n",
    "# one hot\n",
    "X_lib = liberal_rf.drop('justicesDecision', axis=1)\n",
    "y_lib = liberal_rf['justicesDecision']\n",
    "\n",
    "encoder_lib = OneHotEncoder(sparse=False, handle_unknown='ignore')\n",
    "X_encoded_lib = encoder_lib.fit_transform(X_lib)\n",
    "X_train_lib, X_test_lib, y_train_lib, y_test_lib = train_test_split(X_encoded_lib, y_lib, test_size=0.1, random_state=42)\n",
    "\n",
    "\n",
    "# now I train random forest classifier\n",
    "randfor_lib = RandomForestClassifier(n_estimators=110, class_weight = 'balanced', random_state=42) # n_estimators means the amount of trees \n",
    "\n",
    "randfor_lib.fit(X_train_lib, y_train_lib) #training the model \n",
    "\n",
    "# now I a making predictions and classifying the model \n",
    "\n",
    "predictions_lib = randfor_lib.predict(X_test_lib)\n",
    "\n",
    "# accuracy calculation\n",
    "accuracy_lib = accuracy_score(y_test_lib, predictions_lib)\n",
    "print(f'Accuracy: {accuracy_lib}')\n",
    "\n",
    "importances_lib = randfor_lib.feature_importances_ #feature importances \n",
    "\n",
    "\n",
    "# now relating the encoded features back to the acutal ones\n",
    "feature_names_lib = encoder_lib.get_feature_names_out(X_lib.columns)\n",
    "original_feature_importance_lib = dict.fromkeys(X_lib.columns, 0)\n",
    "\n",
    "for encoded_feature_lib, importance_lib in zip(feature_names_lib, importances_lib):\n",
    "    original_feature_lib = encoded_feature_lib.split('_')[0]  # using default one hot encoding feature naming\n",
    "    original_feature_importance_lib[original_feature_lib] += importance\n",
    "\n",
    "sorted_by_importance_lib = sorted(original_feature_importance_lib.items(), key=lambda x: x[1], reverse=True)\n",
    "\n",
    "# printing the sorted features now and their importance\n",
    "for feature_lib, importance in sorted_by_importance_lib:\n",
    "    print(f\"{feature_lib}: {importance_lib}\")\n"
   ]
  },
  {
   "cell_type": "code",
   "execution_count": null,
   "id": "bd8662da",
   "metadata": {},
   "outputs": [],
   "source": []
  }
 ],
 "metadata": {
  "kernelspec": {
   "display_name": "Python 3 (ipykernel)",
   "language": "python",
   "name": "python3"
  },
  "language_info": {
   "codemirror_mode": {
    "name": "ipython",
    "version": 3
   },
   "file_extension": ".py",
   "mimetype": "text/x-python",
   "name": "python",
   "nbconvert_exporter": "python",
   "pygments_lexer": "ipython3",
   "version": "3.9.12"
  }
 },
 "nbformat": 4,
 "nbformat_minor": 5
}
