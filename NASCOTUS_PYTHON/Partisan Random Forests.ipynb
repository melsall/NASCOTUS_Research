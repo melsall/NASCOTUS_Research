{
 "cells": [
  {
   "cell_type": "code",
   "execution_count": 1,
   "id": "7bd4cd3d",
   "metadata": {},
   "outputs": [],
   "source": [
    "# this file will do random forests separately by party to see what happens"
   ]
  },
  {
   "cell_type": "code",
   "execution_count": 1,
   "id": "9e7cb42e",
   "metadata": {},
   "outputs": [],
   "source": [
    "import pandas as pd\n",
    "import numpy as np\n",
    "from sklearn.model_selection import train_test_split\n",
    "from sklearn.ensemble import RandomForestClassifier\n",
    "from sklearn.metrics import accuracy_score\n",
    "from sklearn.preprocessing import OneHotEncoder\n",
    "# importing and separating data\n",
    "NASCOTUS_fixed = pd.read_csv('NASCOTUS_fixed.csv')"
   ]
  },
  {
   "cell_type": "code",
   "execution_count": 3,
   "id": "df01ff0b",
   "metadata": {
    "scrolled": true
   },
   "outputs": [
    {
     "name": "stdout",
     "output_type": "stream",
     "text": [
      "Training Accuracy: 0.5418102525164029\n",
      "Test Accuracy: 0.5438049996106222\n",
      "lawType: 0.5903521074183662\n",
      "presAffiliation: 0.21815936270060834\n",
      "lcDispositionDirection: 0.19148852988102524\n"
     ]
    }
   ],
   "source": [
    "# conservative modeling\n",
    "conservative_rf = NASCOTUS_fixed[NASCOTUS_fixed['presAffiliation'] == 1].copy()\n",
    "conservative_rf.drop('presAffiliation', axis=1, inplace=True)\n",
    "# one hot\n",
    "X_con = NASCOTUS_fixed.drop(['justicesDecision', 'certReason'], axis=1)\n",
    "y_con = NASCOTUS_fixed['justicesDecision']\n",
    "\n",
    "encoder_con = OneHotEncoder(sparse=False, handle_unknown='ignore')\n",
    "X_encoded_con = encoder_con.fit_transform(X_con)\n",
    "#split train test\n",
    "# then I split data \n",
    "X_train_con, X_test_con, y_train_con, y_test_con = train_test_split(X_encoded_con, y_con, test_size=0.2, random_state=42)\n",
    "\n",
    "# now I train random forest classifier\n",
    "randfor_con = RandomForestClassifier(n_estimators=11, class_weight = 'balanced', random_state=42) # n_estimators means the amount of trees \n",
    "\n",
    "randfor_con.fit(X_train_con, y_train_con) #training the model \n",
    "\n",
    "\n",
    "# Making predictions for both train and test data\n",
    "train_predictions_con = randfor_con.predict(X_train_con)\n",
    "test_predictions_con = randfor_con.predict(X_test_con)\n",
    "\n",
    "# Calculating accuracy for both train and test data\n",
    "train_accuracy_con = accuracy_score(y_train_con, train_predictions_con)\n",
    "test_accuracy_con = accuracy_score(y_test_con, test_predictions_con)\n",
    "\n",
    "# Printing accuracies\n",
    "print(f'Training Accuracy: {train_accuracy_con}')\n",
    "print(f'Test Accuracy: {test_accuracy_con}')\n",
    "\n",
    "\n",
    "\n",
    "\n",
    "importances_con = randfor_con.feature_importances_ #feature importances \n",
    "\n",
    "\n",
    "# now relating the encoded features back to the acutal ones\n",
    "feature_names_con = encoder_con.get_feature_names_out(X_con.columns)\n",
    "original_feature_importance_con = dict.fromkeys(X_con.columns, 0)\n",
    "\n",
    "for encoded_feature_con, importance_con in zip(feature_names_con, importances_con):\n",
    "    original_feature_con= encoded_feature_con.split('_')[0]  # using default one hot encoding feature naming\n",
    "    original_feature_importance_con[original_feature_con] += importance_con \n",
    "\n",
    "sorted_by_importance_con = sorted(original_feature_importance_con.items(), key=lambda x: x[1], reverse=True)\n",
    "\n",
    "# printing the sorted features now and their importance\n",
    "for feature_con, importance_con in sorted_by_importance_con:\n",
    "    print(f\"{feature_con}: {importance_con}\")\n"
   ]
  },
  {
   "cell_type": "code",
   "execution_count": 4,
   "id": "787fb480",
   "metadata": {},
   "outputs": [
    {
     "name": "stdout",
     "output_type": "stream",
     "text": [
      "Training Accuracy: 0.6382192428344291\n",
      "Test Accuracy: 0.6117556071152359\n",
      "lawType: 0.41569001006796413\n",
      "certReason: 0.4050576761949491\n",
      "lcDispositionDirection: 0.1792523137370868\n"
     ]
    }
   ],
   "source": [
    "# liberal modeling\n",
    "liberal_rf = NASCOTUS_fixed[NASCOTUS_fixed['presAffiliation'] == 0].copy()\n",
    "liberal_rf.drop('presAffiliation', axis=1, inplace=True)\n",
    "# one hot\n",
    "X_lib = liberal_rf.drop('justicesDecision', axis=1)\n",
    "y_lib = liberal_rf['justicesDecision']\n",
    "\n",
    "encoder_lib = OneHotEncoder(sparse=False, handle_unknown='ignore')\n",
    "X_encoded_lib = encoder_lib.fit_transform(X_lib)\n",
    "X_train_lib, X_test_lib, y_train_lib, y_test_lib = train_test_split(X_encoded_lib, y_lib, test_size=0.1, random_state=42)\n",
    "\n",
    "\n",
    "# now I train random forest classifier\n",
    "randfor_lib = RandomForestClassifier(n_estimators=110, class_weight = 'balanced', random_state=42) # n_estimators means the amount of trees \n",
    "\n",
    "randfor_lib.fit(X_train_lib, y_train_lib) #training the model \n",
    "\n",
    "\n",
    "\n",
    "# Making predictions for both train and test data\n",
    "train_predictions_lib = randfor_lib.predict(X_train_lib)\n",
    "test_predictions_lib = randfor_lib.predict(X_test_lib)\n",
    "\n",
    "# Calculating accuracy for both train and test data\n",
    "train_accuracy_lib = accuracy_score(y_train_lib, train_predictions_lib)\n",
    "test_accuracy_lib = accuracy_score(y_test_lib, test_predictions_lib)\n",
    "\n",
    "# Printing accuracies\n",
    "print(f'Training Accuracy: {train_accuracy_lib}')\n",
    "print(f'Test Accuracy: {test_accuracy_lib}')\n",
    "\n",
    "\n",
    "\n",
    "importances_lib = randfor_lib.feature_importances_ #feature importances \n",
    "\n",
    "\n",
    "# now relating the encoded features back to the acutal ones\n",
    "feature_names_lib = encoder_lib.get_feature_names_out(X_lib.columns)\n",
    "original_feature_importance_lib = dict.fromkeys(X_lib.columns, 0)\n",
    "\n",
    "for encoded_feature_lib, importance_lib in zip(feature_names_lib, importances_lib):\n",
    "    original_feature_lib = encoded_feature_lib.split('_')[0]  # using default one hot encoding feature naming\n",
    "    original_feature_importance_lib[original_feature_lib] += importance_lib\n",
    "\n",
    "sorted_by_importance_lib = sorted(original_feature_importance_lib.items(), key=lambda x: x[1], reverse=True)\n",
    "\n",
    "# printing the sorted features now and their importance\n",
    "for feature_lib, importance_lib in sorted_by_importance_lib:\n",
    "    print(f\"{feature_lib}: {importance_lib}\")\n"
   ]
  },
  {
   "cell_type": "code",
   "execution_count": null,
   "id": "1fee8be3",
   "metadata": {},
   "outputs": [],
   "source": [
    "# 7 percent between these two which is ... interesting?"
   ]
  },
  {
   "cell_type": "code",
   "execution_count": null,
   "id": "6d4a6998",
   "metadata": {},
   "outputs": [],
   "source": []
  }
 ],
 "metadata": {
  "kernelspec": {
   "display_name": "Python 3 (ipykernel)",
   "language": "python",
   "name": "python3"
  },
  "language_info": {
   "codemirror_mode": {
    "name": "ipython",
    "version": 3
   },
   "file_extension": ".py",
   "mimetype": "text/x-python",
   "name": "python",
   "nbconvert_exporter": "python",
   "pygments_lexer": "ipython3",
   "version": "3.9.12"
  }
 },
 "nbformat": 4,
 "nbformat_minor": 5
}
