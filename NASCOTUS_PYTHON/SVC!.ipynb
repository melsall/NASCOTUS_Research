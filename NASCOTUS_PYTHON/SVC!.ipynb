{
 "cells": [
  {
   "cell_type": "code",
   "execution_count": 1,
   "id": "ef50d9e6",
   "metadata": {},
   "outputs": [],
   "source": [
    "# library importer \n",
    "import pandas as pd\n",
    "from sklearn.model_selection import train_test_split\n",
    "from sklearn.preprocessing import OneHotEncoder\n",
    "from sklearn.svm import SVC\n",
    "from sklearn.metrics import accuracy_score, confusion_matrix, classification_report\n",
    "from sklearn.pipeline import Pipeline\n",
    "from sklearn.compose import ColumnTransformer"
   ]
  },
  {
   "cell_type": "code",
   "execution_count": 2,
   "id": "a4bc4e0f",
   "metadata": {},
   "outputs": [
    {
     "name": "stdout",
     "output_type": "stream",
     "text": [
      "       lawType  lcDispositionDirection  certReason  presAffiliation  \\\n",
      "0            5                       1          11                1   \n",
      "1            3                       2          12                1   \n",
      "2            1                       1          11                1   \n",
      "3            3                       1           2                1   \n",
      "4            3                       2          12                1   \n",
      "...        ...                     ...         ...              ...   \n",
      "64199        6                       2          10                0   \n",
      "64200        3                       1          10                0   \n",
      "64201        1                       2           1                0   \n",
      "64202        3                       1           1                0   \n",
      "64203        3                       1          12                0   \n",
      "\n",
      "       justicesDecision  \n",
      "0                     0  \n",
      "1                     0  \n",
      "2                     1  \n",
      "3                     0  \n",
      "4                     0  \n",
      "...                 ...  \n",
      "64199                 0  \n",
      "64200                 0  \n",
      "64201                 1  \n",
      "64202                 0  \n",
      "64203                 0  \n",
      "\n",
      "[64204 rows x 5 columns]\n"
     ]
    }
   ],
   "source": [
    "# csv importer. \n",
    "NASCOTUS_fixed = pd.read_csv('NASCOTUS_fixed.csv')\n",
    "print(NASCOTUS_fixed)"
   ]
  },
  {
   "cell_type": "code",
   "execution_count": 4,
   "id": "d7b9b6a0",
   "metadata": {},
   "outputs": [],
   "source": [
    "# Now I am separating data into the predictors and outcomes\n",
    "X = NASCOTUS_fixed['presAffiliation'] # dropping an extra column to see differences in accuracy scores\n",
    "y = NASCOTUS_fixed['justicesDecision']  # Target variable\n",
    "\n",
    "# ONE HOT ENCODING EVERYTHINGGGGGGGGGGGGGGGGGGGGGGGGGGGGGGGGG\n",
    "X = X.to_frame()\n",
    "\n",
    "categorical_features = X.columns.tolist() \n",
    "categorical_transformer = OneHotEncoder(drop='first')  # One-hot encode; drop one to avoid dummy trap\n",
    "\n",
    "preprocessor = ColumnTransformer(\n",
    "    transformers=[\n",
    "        ('cat', categorical_transformer, categorical_features)\n",
    "    ])\n",
    "\n",
    "# ask about this\n",
    "clf = Pipeline(steps=[('preprocessor', preprocessor),\n",
    "                      ('classifier', SVC(probability=True))])  # probability=True is needed for certain metrics"
   ]
  },
  {
   "cell_type": "code",
   "execution_count": 5,
   "id": "e529649e",
   "metadata": {},
   "outputs": [],
   "source": [
    "# classic train test splitting \n",
    "X_train, X_test, y_train, y_test = train_test_split(X, y, test_size=0.2, random_state=42)\n"
   ]
  },
  {
   "cell_type": "code",
   "execution_count": 7,
   "id": "3720d2c3",
   "metadata": {},
   "outputs": [
    {
     "data": {
      "text/plain": [
       "Pipeline(steps=[('preprocessor',\n",
       "                 ColumnTransformer(transformers=[('cat',\n",
       "                                                  OneHotEncoder(drop='first'),\n",
       "                                                  ['presAffiliation'])])),\n",
       "                ('classifier', SVC(class_weight='balanced', probability=True))])"
      ]
     },
     "execution_count": 7,
     "metadata": {},
     "output_type": "execute_result"
    }
   ],
   "source": [
    "# model training \n",
    "\n",
    "clf.set_params(classifier__class_weight='balanced')\n",
    "clf.fit(X_train, y_train)\n"
   ]
  },
  {
   "cell_type": "code",
   "execution_count": null,
   "id": "3201b03d",
   "metadata": {},
   "outputs": [],
   "source": [
    "# Making predictions\n",
    "y_pred = clf.predict(X_test)\n",
    "\n",
    "# Evaluating the model\n",
    "print(\"Accuracy:\", accuracy_score(y_test, y_pred))\n",
    "print(\"Confusion Matrix:\")\n",
    "print(confusion_matrix(y_test, y_pred))\n",
    "print(\"Classification Report:\")\n",
    "print(classification_report(y_test, y_pred))\n"
   ]
  },
  {
   "cell_type": "code",
   "execution_count": null,
   "id": "0c511277",
   "metadata": {},
   "outputs": [],
   "source": [
    "Notes: \n",
    "    - i did the line in the model training box that sets the classifier_class_weight to 'balanced' so that the sample numbers could be balanced "
   ]
  }
 ],
 "metadata": {
  "kernelspec": {
   "display_name": "Python 3 (ipykernel)",
   "language": "python",
   "name": "python3"
  },
  "language_info": {
   "codemirror_mode": {
    "name": "ipython",
    "version": 3
   },
   "file_extension": ".py",
   "mimetype": "text/x-python",
   "name": "python",
   "nbconvert_exporter": "python",
   "pygments_lexer": "ipython3",
   "version": "3.9.12"
  }
 },
 "nbformat": 4,
 "nbformat_minor": 5
}
