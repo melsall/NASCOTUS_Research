{
 "cells": [
  {
   "cell_type": "code",
   "execution_count": 1,
   "id": "9a44ad89",
   "metadata": {},
   "outputs": [],
   "source": [
    "#importing necessary libraries\n",
    "\n",
    "import pandas as pd\n",
    "import numpy as np\n",
    "from sklearn.model_selection import train_test_split\n",
    "from sklearn.ensemble import RandomForestClassifier\n",
    "from sklearn.metrics import accuracy_score\n",
    "from sklearn.preprocessing import OneHotEncoder"
   ]
  },
  {
   "cell_type": "code",
   "execution_count": 2,
   "id": "9f39bc6d",
   "metadata": {},
   "outputs": [],
   "source": [
    "# importing and separating data\n",
    "NASCOTUS_fixed = pd.read_csv('NASCOTUS_fixed.csv')\n",
    "\n",
    "# making X data and Y data\n",
    "X = NASCOTUS_fixed.drop('justicesDecision', axis=1)\n",
    "y = NASCOTUS_fixed['justicesDecision']"
   ]
  },
  {
   "cell_type": "code",
   "execution_count": 3,
   "id": "945937de",
   "metadata": {},
   "outputs": [],
   "source": [
    "# have to do preprocessing and one hot encode since the variables are categorical\n",
    "encoder = OneHotEncoder(sparse=False, handle_unknown='ignore')\n",
    "X_encoded = encoder.fit_transform(X)"
   ]
  },
  {
   "cell_type": "code",
   "execution_count": 4,
   "id": "fa821bdc",
   "metadata": {},
   "outputs": [],
   "source": [
    "# then I split data \n",
    "X_train, X_test, y_train, y_test = train_test_split(X_encoded, y, test_size=0.1, random_state=42)"
   ]
  },
  {
   "cell_type": "code",
   "execution_count": 5,
   "id": "01806f98",
   "metadata": {},
   "outputs": [
    {
     "data": {
      "text/plain": [
       "RandomForestClassifier(class_weight='balanced', n_estimators=1, random_state=42)"
      ]
     },
     "execution_count": 5,
     "metadata": {},
     "output_type": "execute_result"
    }
   ],
   "source": [
    "# now I train random forest classifier\n",
    "randfor = RandomForestClassifier(n_estimators=1, class_weight = 'balanced', random_state=42) # n_estimators means the amount of trees \n",
    "\n",
    "randfor.fit(X_train, y_train) #training the model \n"
   ]
  },
  {
   "cell_type": "code",
   "execution_count": 6,
   "id": "034ed2df",
   "metadata": {},
   "outputs": [
    {
     "name": "stdout",
     "output_type": "stream",
     "text": [
      "Accuracy: 0.4989876966204641\n"
     ]
    }
   ],
   "source": [
    "# now I a making predictions and classifying the model \n",
    "\n",
    "predictions = randfor.predict(X_test)\n",
    "\n",
    "# accuracy calculation\n",
    "accuracy = accuracy_score(y_test, predictions)\n",
    "print(f'Accuracy: {accuracy}')"
   ]
  },
  {
   "cell_type": "code",
   "execution_count": 7,
   "id": "5adc4c00",
   "metadata": {},
   "outputs": [
    {
     "name": "stdout",
     "output_type": "stream",
     "text": [
      "certReason: 0.3996515190966594\n",
      "lawType: 0.37829801360417986\n",
      "lcDispositionDirection: 0.15270551360899132\n",
      "presAffiliation: 0.06934495369016945\n"
     ]
    }
   ],
   "source": [
    "importances = randfor.feature_importances_ #feature importances \n",
    "\n",
    "\n",
    "# now relating the encoded features back to the acutal ones\n",
    "feature_names = encoder.get_feature_names_out(X.columns)\n",
    "original_feature_importance = dict.fromkeys(X.columns, 0)\n",
    "\n",
    "for encoded_feature, importance in zip(feature_names, importances):\n",
    "    original_feature = encoded_feature.split('_')[0]  # using default one hot encoding feature naming\n",
    "    original_feature_importance[original_feature] += importance\n",
    "\n",
    "sorted_by_importance = sorted(original_feature_importance.items(), key=lambda x: x[1], reverse=True)\n",
    "\n",
    "# printing the sorted features now and their importance\n",
    "for feature, importance in sorted_by_importance:\n",
    "    print(f\"{feature}: {importance}\")\n"
   ]
  },
  {
   "cell_type": "code",
   "execution_count": 8,
   "id": "d71b2e2f",
   "metadata": {},
   "outputs": [
    {
     "name": "stdout",
     "output_type": "stream",
     "text": [
      "Training Accuracy: 0.5072080023536334\n"
     ]
    }
   ],
   "source": [
    "# Predict on the training data\n",
    "train_predictions = randfor.predict(X_train)\n",
    "\n",
    "# Calculate accuracy on the training data\n",
    "train_accuracy = accuracy_score(y_train, train_predictions)\n",
    "print(f'Training Accuracy: {train_accuracy}')"
   ]
  },
  {
   "cell_type": "code",
   "execution_count": 9,
   "id": "70b3f1b4",
   "metadata": {},
   "outputs": [
    {
     "ename": "IndentationError",
     "evalue": "unexpected indent (4292286074.py, line 2)",
     "output_type": "error",
     "traceback": [
      "\u001b[0;36m  Input \u001b[0;32mIn [9]\u001b[0;36m\u001b[0m\n\u001b[0;31m    This model is saying that certReason is the most important feature, then lawType, then lcDispositionDirection,\u001b[0m\n\u001b[0m    ^\u001b[0m\n\u001b[0;31mIndentationError\u001b[0m\u001b[0;31m:\u001b[0m unexpected indent\n"
     ]
    }
   ],
   "source": [
    "# notes\n",
    "    This model is saying that certReason is the most important feature, then lawType, then lcDispositionDirection,\n",
    "    then presAffiliation. The numbers are percentages. "
   ]
  },
  {
   "cell_type": "code",
   "execution_count": 11,
   "id": "aad4ef7d",
   "metadata": {},
   "outputs": [],
   "source": [
    "# dividing so there are no instances of caseIds informing the model.\n",
    "\n",
    "data_uncleaned = pd.read_csv('all_data.csv')\n",
    "data_uncleaned = data_uncleaned.drop(['justiceName', 'fullJusticeName', 'dateDecision'], axis=1)\n",
    "data_uncleaned.dropna(axis=0, inplace=True)\n",
    "\n",
    "# one hot encoding for every column except caseId\n",
    "categorical_columns = [col for col in data_uncleaned.columns if col not in ['caseId', 'justicesDecision']]\n",
    "\n",
    "\n",
    "# categorical columns\n",
    "data = pd.get_dummies(data_uncleaned, columns=categorical_columns)\n",
    "\n",
    "\n",
    "unique_caseIds = data['caseId'].unique().tolist()\n",
    "\n",
    "# randomizing this list\n",
    "import random\n",
    "\n",
    "random.shuffle(unique_caseIds)\n",
    "\n",
    "eighty_percent_length = int(len(unique_caseIds) * 0.6)\n",
    "\n",
    "\n",
    "eighty_subset = unique_caseIds[:eighty_percent_length]\n",
    "twenty_subset = unique_caseIds[eighty_percent_length:]\n",
    "\n",
    "# making eighty/20 which will have that first 80% of caseIds, last 20%. you get it.\n",
    "eighty = data[data['caseId'].isin(eighty_subset)].copy()\n",
    "twenty = data[data['caseId'].isin(twenty_subset)].copy()\n",
    "# have to reset index\n",
    "eighty.reset_index(drop=True, inplace=True)\n",
    "twenty.reset_index(drop=True, inplace=True)\n",
    "\n",
    "# NOW U CAN proceed.\n"
   ]
  },
  {
   "cell_type": "code",
   "execution_count": 12,
   "id": "e6fd06e2",
   "metadata": {},
   "outputs": [],
   "source": [
    "eighty = eighty.dropna()\n",
    "twenty = twenty.dropna()"
   ]
  },
  {
   "cell_type": "code",
   "execution_count": 13,
   "id": "9deba0c7",
   "metadata": {},
   "outputs": [
    {
     "name": "stdout",
     "output_type": "stream",
     "text": [
      "Accuracy: 1.0\n"
     ]
    }
   ],
   "source": [
    "# training the model part two\n",
    "\n",
    "\n",
    "training_set_x = eighty.drop(['justicesDecision', 'caseId'], axis=1)\n",
    "training_set_y = eighty['justicesDecision']\n",
    "\n",
    "testing_set_x =  twenty.drop(['justicesDecision', 'caseId'], axis=1)\n",
    "testing_set_y = twenty['justicesDecision']\n",
    "\n",
    "# make model\n",
    "randfor2 = RandomForestClassifier(n_estimators=3, random_state=42)\n",
    "randfor2.fit(training_set_x, training_set_y) #training the model \n",
    "\n",
    "\n",
    "predictions = randfor2.predict(testing_set_x)\n",
    "\n",
    "\n",
    "accuracy = accuracy_score(testing_set_y, predictions)\n",
    "print(f'Accuracy: {accuracy}')"
   ]
  },
  {
   "cell_type": "code",
   "execution_count": 14,
   "id": "2e0a53d2",
   "metadata": {},
   "outputs": [
    {
     "name": "stdout",
     "output_type": "stream",
     "text": [
      "Feature Importances:\n",
      "decisionType: 0.0\n",
      "term: 0.0\n",
      "naturalCourt: 0.0\n",
      "chief: 0.0\n",
      "petitioner: 0.0\n",
      "respondent: 0.0\n",
      "caseSource: 0.0\n",
      "certReason: 0.0\n",
      "lcDispositionDirection: 0.0\n",
      "declarationUncon: 0.0\n",
      "caseDisposition: 0.0\n",
      "partyWinning: 0.0\n",
      "precedentAlteration: 0.0\n",
      "issue: 0.0\n",
      "issueArea: 0.0\n",
      "decisionDirection: 0.0\n",
      "decisionDirectionDissent: 0.0\n",
      "authorityDecision1: 0.0\n",
      "authorityDecision2: 0.0\n",
      "lawType: 0.0\n",
      "lawSupp: 0.0\n",
      "justice: 0.0\n",
      "vote: 0.0\n",
      "direction: 0.0\n",
      "majority: 0.0\n",
      "presAppointed: 0.0\n",
      "presAffiliation: 0.0\n"
     ]
    }
   ],
   "source": [
    "# doing feature importances\n",
    "from sklearn.ensemble import RandomForestClassifier\n",
    "from sklearn.metrics import accuracy_score\n",
    "import pandas as pd\n",
    "\n",
    "\n",
    "feature_importances = randfor2.feature_importances_\n",
    "\n",
    "\n",
    "original_columns = []\n",
    "for col in training_set_x.columns:\n",
    "    if '_' in col:\n",
    "        original_col = col.split('_')[0]\n",
    "        if original_col not in original_columns:\n",
    "            original_columns.append(original_col)\n",
    "    else:\n",
    "        original_columns.append(col)\n",
    "\n",
    "# sorting by importance\n",
    "importance_dict = {feature_name: importance for importance, feature_name in zip(feature_importances, original_columns)}\n",
    "sorted_importance_dict = dict(sorted(importance_dict.items(), key=lambda item: item[1], reverse=True))\n",
    "\n",
    "# Print feature importances in order of importance\n",
    "print(\"Feature Importances:\")\n",
    "for feature_name, importance in sorted_importance_dict.items():\n",
    "    print(f\"{feature_name}: {importance}\")"
   ]
  },
  {
   "cell_type": "code",
   "execution_count": null,
   "id": "ff5dfed6",
   "metadata": {},
   "outputs": [],
   "source": []
  }
 ],
 "metadata": {
  "kernelspec": {
   "display_name": "Python 3 (ipykernel)",
   "language": "python",
   "name": "python3"
  },
  "language_info": {
   "codemirror_mode": {
    "name": "ipython",
    "version": 3
   },
   "file_extension": ".py",
   "mimetype": "text/x-python",
   "name": "python",
   "nbconvert_exporter": "python",
   "pygments_lexer": "ipython3",
   "version": "3.9.12"
  }
 },
 "nbformat": 4,
 "nbformat_minor": 5
}
