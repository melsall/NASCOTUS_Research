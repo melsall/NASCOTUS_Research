{
 "cells": [
  {
   "cell_type": "code",
   "execution_count": 1,
   "id": "e7028060",
   "metadata": {},
   "outputs": [],
   "source": [
    "# importing libraries and acquiring data\n",
    "import pandas as pd\n",
    "import numpy as np\n",
    "from sklearn.model_selection import train_test_split\n",
    "from sklearn.ensemble import RandomForestClassifier\n",
    "from sklearn.metrics import accuracy_score\n",
    "from sklearn.preprocessing import OneHotEncoder\n"
   ]
  },
  {
   "cell_type": "code",
   "execution_count": 6,
   "id": "4b29e7d1",
   "metadata": {},
   "outputs": [],
   "source": [
    "# first figure out which columns you need to drop\n",
    "case_centered  = pd.read_csv('case_centered2.csv')\n",
    "\n",
    "# dropping all super specific things"
   ]
  },
  {
   "cell_type": "code",
   "execution_count": 7,
   "id": "33f9e49d",
   "metadata": {},
   "outputs": [],
   "source": [
    "columns_to_include = ['issueArea', 'lcDispositionDirection', 'lawType', 'caseDisposition', 'caseSource', 'chief']\n",
    "\n",
    "# Create the subset by selecting only the specified columns\n",
    "data = case_centered[columns_to_include].copy()\n",
    "\n",
    "# Optionally, you can drop any rows with missing values in the subset\n",
    "data.dropna(inplace=True)"
   ]
  },
  {
   "cell_type": "code",
   "execution_count": 8,
   "id": "b05b8d68",
   "metadata": {},
   "outputs": [
    {
     "data": {
      "text/plain": [
       "RandomForestClassifier(n_estimators=129, random_state=42)"
      ]
     },
     "execution_count": 8,
     "metadata": {},
     "output_type": "execute_result"
    }
   ],
   "source": [
    "\n",
    "X = data.drop('caseDisposition', axis=1)\n",
    "y = data['caseDisposition']\n",
    "\n",
    "encoder = OneHotEncoder(sparse=False, handle_unknown='ignore')\n",
    "X_encoded = encoder.fit_transform(X)\n",
    "\n",
    "X_train, X_test, y_train, y_test = train_test_split(X_encoded, y, test_size=0.2, random_state=42)\n",
    "\n",
    "randfor = RandomForestClassifier(n_estimators=129, random_state=42) # n_estimators means the amount of trees \n",
    "\n",
    "randfor.fit(X_train, y_train) #training the model "
   ]
  },
  {
   "cell_type": "code",
   "execution_count": 9,
   "id": "c2c49c94",
   "metadata": {},
   "outputs": [
    {
     "name": "stdout",
     "output_type": "stream",
     "text": [
      "Accuracy: 0.36607142857142855\n"
     ]
    }
   ],
   "source": [
    "# now I a making predictions and classifying the model \n",
    "\n",
    "predictions = randfor.predict(X_test)\n",
    "\n",
    "# accuracy calculation\n",
    "accuracy = accuracy_score(y_test, predictions)\n",
    "print(f'Accuracy: {accuracy}')"
   ]
  },
  {
   "cell_type": "code",
   "execution_count": 10,
   "id": "9d146fce",
   "metadata": {},
   "outputs": [
    {
     "name": "stdout",
     "output_type": "stream",
     "text": [
      "caseSource: 0.4574210057912737\n",
      "issueArea: 0.2227962028287648\n",
      "lawType: 0.15775868235397938\n",
      "chief: 0.1060261406314142\n",
      "lcDispositionDirection: 0.0559979683945678\n"
     ]
    }
   ],
   "source": [
    "importances = randfor.feature_importances_ #feature importances \n",
    "\n",
    "\n",
    "# now relating the encoded features back to the actual fones\n",
    "feature_names = encoder.get_feature_names_out(X.columns)\n",
    "original_feature_importance = dict.fromkeys(X.columns, 0)\n",
    "\n",
    "for encoded_feature, importance in zip(feature_names, importances):\n",
    "    original_feature = encoded_feature.split('_')[0]  # using default one hot encoding feature naming\n",
    "    original_feature_importance[original_feature] += importance\n",
    "\n",
    "sorted_by_importance = sorted(original_feature_importance.items(), key=lambda x: x[1], reverse=True)\n",
    "\n",
    "# printing the sorted features now and their importance\n",
    "for feature, importance in sorted_by_importance:\n",
    "    print(f\"{feature}: {importance}\")\n"
   ]
  },
  {
   "cell_type": "code",
   "execution_count": null,
   "id": "2b81214d",
   "metadata": {},
   "outputs": [],
   "source": []
  }
 ],
 "metadata": {
  "kernelspec": {
   "display_name": "Python 3 (ipykernel)",
   "language": "python",
   "name": "python3"
  },
  "language_info": {
   "codemirror_mode": {
    "name": "ipython",
    "version": 3
   },
   "file_extension": ".py",
   "mimetype": "text/x-python",
   "name": "python",
   "nbconvert_exporter": "python",
   "pygments_lexer": "ipython3",
   "version": "3.9.12"
  }
 },
 "nbformat": 4,
 "nbformat_minor": 5
}
